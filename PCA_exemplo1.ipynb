{
 "cells": [
  {
   "cell_type": "markdown",
   "metadata": {},
   "source": [
    "# PCA - Exemplo 1: *HAR* com PCA\n",
    "\n",
    "Vamos explorar um pouco melhor como é o desempenho da árvore variando o número de componentes principais."
   ]
  },
  {
   "cell_type": "code",
   "execution_count": 1,
   "metadata": {},
   "outputs": [
    {
     "name": "stderr",
     "output_type": "stream",
     "text": [
      "C:\\Users\\chris\\AppData\\Local\\Temp\\ipykernel_5996\\125094000.py:25: FutureWarning: The squeeze argument has been deprecated and will be removed in a future version. Append .squeeze(\"columns\") to the call to squeeze.\n",
      "\n",
      "\n",
      "  features = pd.read_csv(filename_features, header=None, names=['nome_var'], squeeze=True, sep=\"#\")\n",
      "C:\\Users\\chris\\AppData\\Local\\Temp\\ipykernel_5996\\125094000.py:28: FutureWarning: The squeeze argument has been deprecated and will be removed in a future version. Append .squeeze(\"columns\") to the call to squeeze.\n",
      "\n",
      "\n",
      "  subject_train = pd.read_csv(filename_subtrain, header=None, names=['subject_id'], squeeze=True)\n",
      "C:\\Users\\chris\\AppData\\Local\\Temp\\ipykernel_5996\\125094000.py:32: FutureWarning: The squeeze argument has been deprecated and will be removed in a future version. Append .squeeze(\"columns\") to the call to squeeze.\n",
      "\n",
      "\n",
      "  subject_test = pd.read_csv(filename_subtest, header=None, names=['subject_id'], squeeze=True)\n"
     ]
    }
   ],
   "source": [
    "# Importando bibliotecas necessárias\n",
    "\n",
    "import pandas as pd\n",
    "import numpy as np\n",
    "import matplotlib.pyplot as plt\n",
    "import seaborn as sns\n",
    "\n",
    "from sklearn.model_selection import cross_val_score\n",
    "from sklearn.model_selection import GridSearchCV\n",
    "from sklearn.decomposition import PCA\n",
    "from sklearn.tree import DecisionTreeClassifier\n",
    "from sklearn.metrics import accuracy_score\n",
    "from sklearn.ensemble import RandomForestClassifier\n",
    "from sklearn.model_selection import train_test_split\n",
    "\n",
    "\n",
    "# Carregando e definindo o dataset\n",
    "filename_features = r\"C:\\Users\\chris\\OneDrive\\Documentos\\EBAC\\Cientista de dados\\Módulo 27\\human+activity+recognition+using+smartphones\\UCI HAR Dataset\\UCI HAR Dataset\\features.txt\"\n",
    "filename_labels = r\"C:\\Users\\chris\\OneDrive\\Documentos\\EBAC\\Cientista de dados\\Módulo 27\\human+activity+recognition+using+smartphones\\UCI HAR Dataset\\UCI HAR Dataset\\activity_labels.txt\"\n",
    "\n",
    "filename_subtrain = r\"C:\\Users\\chris\\OneDrive\\Documentos\\EBAC\\Cientista de dados\\Módulo 27\\human+activity+recognition+using+smartphones\\UCI HAR Dataset\\UCI HAR Dataset\\train\\subject_train.txt\"\n",
    "filename_xtrain = r\"C:\\Users\\chris\\OneDrive\\Documentos\\EBAC\\Cientista de dados\\Módulo 27\\human+activity+recognition+using+smartphones\\UCI HAR Dataset\\UCI HAR Dataset\\train\\X_train.txt\"\n",
    "filename_ytrain = r\"C:\\Users\\chris\\OneDrive\\Documentos\\EBAC\\Cientista de dados\\Módulo 27\\human+activity+recognition+using+smartphones\\UCI HAR Dataset\\UCI HAR Dataset\\train\\y_train.txt\"\n",
    "\n",
    "filename_subtest = r\"C:\\Users\\chris\\OneDrive\\Documentos\\EBAC\\Cientista de dados\\Módulo 27\\human+activity+recognition+using+smartphones\\UCI HAR Dataset\\UCI HAR Dataset\\test\\subject_test.txt\"\n",
    "ffilename_xtest = r\"C:\\Users\\chris\\OneDrive\\Documentos\\EBAC\\Cientista de dados\\Módulo 27\\human+activity+recognition+using+smartphones\\UCI HAR Dataset\\UCI HAR Dataset\\test\\X_test.txt\"\n",
    "filename_ytest = r\"C:\\Users\\chris\\OneDrive\\Documentos\\EBAC\\Cientista de dados\\Módulo 27\\human+activity+recognition+using+smartphones\\UCI HAR Dataset\\UCI HAR Dataset\\test\\y_test.txt\"\n",
    "\n",
    "features = pd.read_csv(filename_features, header=None, names=['nome_var'], squeeze=True, sep=\"#\")\n",
    "labels = pd.read_csv(filename_labels, delim_whitespace=True, header=None, names=['cod_label', 'label'])\n",
    "\n",
    "subject_train = pd.read_csv(filename_subtrain, header=None, names=['subject_id'], squeeze=True)\n",
    "X_train = pd.read_csv(filename_xtrain, delim_whitespace=True, header=None, names=features.tolist())\n",
    "y_train = pd.read_csv(filename_ytrain, header=None, names=['cod_label'])\n",
    "\n",
    "subject_test = pd.read_csv(filename_subtest, header=None, names=['subject_id'], squeeze=True)\n",
    "X_test = pd.read_csv(ffilename_xtest, delim_whitespace=True, header=None, names=features.tolist())\n",
    "y_test = pd.read_csv(filename_ytest, header=None, names=['cod_label'])"
   ]
  },
  {
   "cell_type": "markdown",
   "metadata": {},
   "source": [
    "## Árvore de decisão\n",
    "\n",
    "Rode uma árvore de decisão com todas as variáveis, utilizando o ```ccp_alpha=0.001```. Avalie a acurácia nas bases de treinamento e teste. Avalie o tempo de processamento."
   ]
  },
  {
   "cell_type": "code",
   "execution_count": 2,
   "metadata": {},
   "outputs": [],
   "source": [
    "# Separando em treino, teste e validação\n",
    "\n",
    "from sklearn.model_selection import train_test_split\n",
    "X_train, X_valid, y_train, y_valid = train_test_split(X_train, y_train)"
   ]
  },
  {
   "cell_type": "code",
   "execution_count": 3,
   "metadata": {},
   "outputs": [
    {
     "name": "stdout",
     "output_type": "stream",
     "text": [
      "CPU times: total: 16min 38s\n",
      "Wall time: 17min 5s\n"
     ]
    }
   ],
   "source": [
    "%%time\n",
    "\n",
    "# Treinamento do classificador sem restrição de ccp_alpha\n",
    "clf = DecisionTreeClassifier(random_state=1234).fit(X_train, y_train)\n",
    "\n",
    "# Cálculo do caminho de pruning com uma valor mínimo de amostras por folha definido (min_samples_leaf=20)\n",
    "caminho = DecisionTreeClassifier(random_state=2360873, min_samples_leaf=20).cost_complexity_pruning_path(X_train, y_train)\n",
    "ccp_alphas, impurities = caminho.ccp_alphas, caminho.impurities\n",
    "\n",
    "# Filtrar ccp_alphas positivos e únicos\n",
    "ccp_alphas = np.unique(ccp_alphas[ccp_alphas >= 0])\n",
    "\n",
    "# Lista para armazenar os classificadores\n",
    "clfs = []\n",
    "\n",
    "# Treinamento de diferentes árvores com valores de ccp_alpha variando\n",
    "for ccp_alpha in ccp_alphas:\n",
    "    # Treinamento de cada árvore com o valor específico de ccp_alpha (0.001 neste caso)\n",
    "    clf = DecisionTreeClassifier(random_state=2360873, ccp_alpha=0.001).fit(X_train, y_train)\n",
    "    clfs.append(clf)"
   ]
  },
  {
   "cell_type": "code",
   "execution_count": 7,
   "metadata": {},
   "outputs": [
    {
     "name": "stdout",
     "output_type": "stream",
     "text": [
      "Acurácia da melhor árvore na base de treino:    97.7\n",
      "Acurácia da melhor árvore na base de validação: 94.2\n",
      "Acurácia da melhor árvore na base de teste:     86.0\n"
     ]
    }
   ],
   "source": [
    "# Encontrar a melhor árvore com base na maior acurácia no conjunto de validação\n",
    "ind_melhor_arvore = np.argmax(valid_scores)\n",
    "melhor_arvore = clfs[ind_melhor_arvore]\n",
    "\n",
    "# Avaliação da acurácia no conjunto de teste utilizando a melhor árvore\n",
    "acc_train = train_scores[ind_melhor_arvore]\n",
    "acc_valid = valid_scores[ind_melhor_arvore]\n",
    "acc_teste = melhor_arvore.score(X_test, y_test)\n",
    "\n",
    "# Exibição dos resultados\n",
    "print(f'Acurácia da melhor árvore na base de treino:    {acc_train*100:.1f}')\n",
    "print(f'Acurácia da melhor árvore na base de validação: {acc_valid*100:.1f}')\n",
    "print(f'Acurácia da melhor árvore na base de teste:     {acc_teste*100:.1f}')"
   ]
  },
  {
   "cell_type": "markdown",
   "metadata": {},
   "source": [
    "## Árvore com PCA\n",
    "\n",
    "Fazendo uma análise de componemtes principais das variáveis originais. Utilizando apenas uma componente. Fazendo uma árvore de decisão com esta componente como variável explicativa.\n",
    "\n",
    "- Avaliando a acurácia nas bases de treinamento e teste\n",
    "- Avaliando o tempo de processamento"
   ]
  },
  {
   "cell_type": "code",
   "execution_count": 40,
   "metadata": {},
   "outputs": [
    {
     "name": "stdout",
     "output_type": "stream",
     "text": [
      "CPU times: total: 797 ms\n",
      "Wall time: 236 ms\n"
     ]
    },
    {
     "data": {
      "text/plain": [
       "(5514, 1)"
      ]
     },
     "execution_count": 40,
     "metadata": {},
     "output_type": "execute_result"
    }
   ],
   "source": [
    "%%time\n",
    "\n",
    "# Realizando a Análise de Componentes Principais (PCA) com 60 componentes nos dados de treinamento\n",
    "prcomp = PCA(n_components=1).fit(X_train)\n",
    "\n",
    "# Transformando os conjuntos de treinamento, validação e teste usando o modelo PCA\n",
    "pc_treino = prcomp.transform(X_train)\n",
    "pc_teste  = prcomp.transform(X_test)\n",
    "\n",
    "# Exibindo a forma (shape) do conjunto de treinamento transformado\n",
    "pc_treino.shape\n"
   ]
  },
  {
   "cell_type": "code",
   "execution_count": 41,
   "metadata": {},
   "outputs": [],
   "source": [
    "# Definindo o número de componentes principais\n",
    "n = 1\n",
    "\n",
    "# Criando os nomes das colunas para os novos conjuntos de dados\n",
    "colunas = ['cp' + str(x + 1) for x in range(n)]\n",
    "\n",
    "# Criando DataFrames para os conjuntos de treinamento, validação e teste com os componentes principais\n",
    "pc_train = pd.DataFrame(pc_treino[:, :n], columns=colunas)\n",
    "pc_test = pd.DataFrame(pc_teste[:, :n], columns=colunas)\n"
   ]
  },
  {
   "cell_type": "code",
   "execution_count": 42,
   "metadata": {},
   "outputs": [
    {
     "name": "stdout",
     "output_type": "stream",
     "text": [
      "CPU times: total: 10.3 s\n",
      "Wall time: 10.3 s\n"
     ]
    }
   ],
   "source": [
    "%%time\n",
    "\n",
    "# Treinando um classificador de árvore de decisão no conjunto de treinamento com os componentes principais\n",
    "clf = DecisionTreeClassifier(random_state=1234).fit(pc_train, y_train)\n",
    "\n",
    "# Realizando a poda da árvore de decisão com base na complexidade do custo\n",
    "caminho = DecisionTreeClassifier(random_state=2360873, min_samples_leaf=20).cost_complexity_pruning_path(pc_train, y_train)\n",
    "ccp_alphas, impurities = caminho.ccp_alphas, caminho.impurities\n",
    "\n",
    "# Removendo valores duplicados e negativos de alfas CCP (Complexidade do Custo Poda)\n",
    "ccp_alphas = np.unique(ccp_alphas[ccp_alphas >= 0])\n",
    "\n",
    "# Inicializando uma lista para armazenar os classificadores resultantes da poda com diferentes alfas CCP\n",
    "clfs = []\n",
    "\n",
    "# Iterando sobre os diferentes alfas CCP e treinando classificadores com cada alfa\n",
    "for ccp_alpha in ccp_alphas:\n",
    "    clf = DecisionTreeClassifier(random_state=2360873, ccp_alpha=ccp_alpha).fit(pc_train, y_train)\n",
    "    clfs.append(clf)\n"
   ]
  },
  {
   "cell_type": "code",
   "execution_count": 45,
   "metadata": {},
   "outputs": [
    {
     "data": {
      "image/png": "[encoded data removed]",
      "text/plain": [
       "<Figure size 640x480 with 1 Axes>"
      ]
     },
     "metadata": {},
     "output_type": "display_data"
    }
   ],
   "source": [
    "# Calculando as pontuações de treino e teste para diferentes alfas CCP\n",
    "train_scores = [clf.score(pc_train, y_train) for clf in clfs]\n",
    "test_scores = [clf.score(pc_test, y_test) for clf in clfs]\n",
    "\n",
    "# Criando um gráfico para visualizar a relação entre alfas CCP e acurácia\n",
    "fig, ax = plt.subplots()\n",
    "ax.set_xlabel(\"alfa CCP\")\n",
    "ax.set_ylabel(\"Acurácia\")\n",
    "ax.set_title(\"Acurácia em função do alfa CCP nos conjuntos de treino e teste\")\n",
    "\n",
    "# Definindo o número de alfas CCP a serem exibidos no gráfico (nx últimos alfas)\n",
    "nx = -10\n",
    "\n",
    "# Plotando as curvas de acurácia para os conjuntos de treino e validação\n",
    "ax.plot(ccp_alphas[:nx], train_scores[:nx], marker='o', label=\"Treino\", drawstyle=\"steps-post\")\n",
    "ax.plot(ccp_alphas[:nx], test_scores[:nx], marker='o', label=\"Teste\", drawstyle=\"steps-post\")\n",
    "\n",
    "# Adicionando uma legenda ao gráfico\n",
    "ax.legend()\n",
    "\n",
    "# Exibindo o gráfico\n",
    "plt.show()\n"
   ]
  },
  {
   "cell_type": "code",
   "execution_count": 46,
   "metadata": {},
   "outputs": [
    {
     "name": "stdout",
     "output_type": "stream",
     "text": [
      "Acurácia da melhor árvore na base de treino:    49.6\n",
      "Acurácia da melhor árvore na base de teste:     47.9\n"
     ]
    }
   ],
   "source": [
    "# Encontrando o índice da melhor árvore com base na pontuação de validação\n",
    "ind_melhor_arvore = len(test_scores) - test_scores[::-1].index(max(test_scores)) - 1\n",
    "\n",
    "# Obtendo a melhor árvore do conjunto de árvores podadas\n",
    "melhor_arvore = clfs[ind_melhor_arvore]\n",
    "\n",
    "# Imprimindo as métricas de desempenho da melhor árvore nos conjuntos de treino, validação e teste\n",
    "print(f'Acurácia da melhor árvore na base de treino:    {train_scores[ind_melhor_arvore]*100:.1f}')\n",
    "print(f'Acurácia da melhor árvore na base de teste:     {melhor_arvore.score(pc_test, y_test)*100:.1f}')\n"
   ]
  },
  {
   "cell_type": "markdown",
   "metadata": {},
   "source": [
    "## Testando o número de componentes\n",
    "\n",
    "Testando a árvore de classificação com pelo menos as seguintes possibilidades de quantidades de componentes: ```[1, 2, 5, 10, 50]```. Avaliando para cada uma delas:\n",
    "\n",
    "- Acurácia nas bases de treino e teste\n",
    "- Tempo de processamento\n"
   ]
  },
  {
   "cell_type": "code",
   "execution_count": 47,
   "metadata": {},
   "outputs": [
    {
     "name": "stdout",
     "output_type": "stream",
     "text": [
      "\n",
      "Avaliando com 1 componentes principais.\n",
      "Acurácia da melhor árvore na base de treino:    50.3\n",
      "Acurácia da melhor árvore na base de validação: 48.3\n",
      "Acurácia da melhor árvore na base de teste:     46.3\n",
      "\n",
      "Avaliando com 2 componentes principais.\n",
      "Acurácia da melhor árvore na base de treino:    67.9\n",
      "Acurácia da melhor árvore na base de validação: 59.4\n",
      "Acurácia da melhor árvore na base de teste:     57.3\n",
      "\n",
      "Avaliando com 5 componentes principais.\n",
      "Acurácia da melhor árvore na base de treino:    86.5\n",
      "Acurácia da melhor árvore na base de validação: 83.3\n",
      "Acurácia da melhor árvore na base de teste:     76.9\n",
      "\n",
      "Avaliando com 10 componentes principais.\n",
      "Acurácia da melhor árvore na base de treino:    97.1\n",
      "Acurácia da melhor árvore na base de validação: 87.3\n",
      "Acurácia da melhor árvore na base de teste:     80.3\n",
      "\n",
      "Avaliando com 50 componentes principais.\n",
      "Acurácia da melhor árvore na base de treino:    99.4\n",
      "Acurácia da melhor árvore na base de validação: 86.8\n",
      "Acurácia da melhor árvore na base de teste:     82.0\n"
     ]
    }
   ],
   "source": [
    "# Criando uma função que avalia e mostra o resultado com várias possibilidades de quantidades de componentes\n",
    "def avaliar_arvore_com_componentes(X_train, X_valid, X_test, y_train, y_valid, y_test, componentes):\n",
    "    resultados = []\n",
    "\n",
    "    for n_componentes in componentes:\n",
    "        print(f\"\\nAvaliando com {n_componentes} componentes principais.\")\n",
    "\n",
    "        # Realizando a Análise de Componentes Principais (PCA) com n_componentes nos dados de treinamento\n",
    "        prcomp = PCA(n_components=n_componentes).fit(X_train)\n",
    "\n",
    "        # Transformando os conjuntos de treinamento, validação e teste usando o modelo PCA\n",
    "        pc_treino = prcomp.transform(X_train)\n",
    "        pc_valida = prcomp.transform(X_valid)\n",
    "        pc_teste  = prcomp.transform(X_test)\n",
    "\n",
    "        # Criando DataFrames para os conjuntos de treinamento, validação e teste com os componentes principais\n",
    "        colunas = [f'cp{x + 1}' for x in range(n_componentes)]\n",
    "        pc_train = pd.DataFrame(pc_treino[:, :n_componentes], columns=colunas)\n",
    "        pc_valid = pd.DataFrame(pc_valida[:, :n_componentes], columns=colunas)\n",
    "        pc_test = pd.DataFrame(pc_teste[:, :n_componentes], columns=colunas)\n",
    "\n",
    "        # Treinando um classificador de árvore de decisão no conjunto de treinamento com os componentes principais\n",
    "        clf = DecisionTreeClassifier(random_state=1234).fit(pc_train, y_train)\n",
    "\n",
    "        # Realizando a poda da árvore de decisão com base na complexidade do custo\n",
    "        caminho = DecisionTreeClassifier(random_state=2360873, min_samples_leaf=20).cost_complexity_pruning_path(pc_train, y_train)\n",
    "        ccp_alphas = np.unique(caminho.ccp_alphas[caminho.ccp_alphas >= 0])\n",
    "\n",
    "        # Inicializando uma lista para armazenar os classificadores resultantes da poda com diferentes alfas CCP\n",
    "        clfs = []\n",
    "\n",
    "        # Iterando sobre os diferentes alfas CCP e treinando classificadores com cada alfa\n",
    "        for ccp_alpha in ccp_alphas:\n",
    "            clf = DecisionTreeClassifier(random_state=2360873, ccp_alpha=ccp_alpha).fit(pc_train, y_train)\n",
    "            clfs.append(clf)\n",
    "\n",
    "        # Calculando as pontuações de treino e validação para diferentes alfas CCP\n",
    "        train_scores = [clf.score(pc_train, y_train) for clf in clfs]\n",
    "        valid_scores = [clf.score(pc_valid, y_valid) for clf in clfs]\n",
    "\n",
    "        # Encontrando o índice da melhor árvore com base na pontuação de validação\n",
    "        ind_melhor_arvore = len(valid_scores) - valid_scores[::-1].index(max(valid_scores)) - 1\n",
    "\n",
    "        # Obtendo a melhor árvore do conjunto de árvores podadas\n",
    "        melhor_arvore = clfs[ind_melhor_arvore]\n",
    "\n",
    "        # Calculando a acurácia da melhor árvore no conjunto de teste\n",
    "        teste_accuracy = melhor_arvore.score(pc_test, y_test) * 100\n",
    "\n",
    "        # Armazenando os resultados\n",
    "        resultados.append({\n",
    "            'Componentes': n_componentes,\n",
    "            'AcuraciaTreino': train_scores[ind_melhor_arvore] * 100,\n",
    "            'AcuraciaValidacao': valid_scores[ind_melhor_arvore] * 100,\n",
    "            'AcuraciaTeste': teste_accuracy\n",
    "        })\n",
    "\n",
    "        # Imprimindo as métricas de desempenho da melhor árvore nos conjuntos de treino, validação e teste\n",
    "        print(f'Acurácia da melhor árvore na base de treino:    {train_scores[ind_melhor_arvore]*100:.1f}')\n",
    "        print(f'Acurácia da melhor árvore na base de validação: {valid_scores[ind_melhor_arvore]*100:.1f}')\n",
    "        print(f'Acurácia da melhor árvore na base de teste:     {teste_accuracy:.1f}')\n",
    "\n",
    "    return pd.DataFrame(resultados)\n",
    "\n",
    "# Testando a função com diferentes quantidades de componentes\n",
    "componentes_teste = [1, 2, 5, 10, 50]\n",
    "resultados_df = avaliar_arvore_com_componentes(X_train, X_valid, X_test, y_train, y_valid, y_test, componentes_teste)\n"
   ]
  },
  {
   "cell_type": "markdown",
   "metadata": {},
   "source": [
    "## Concluindo\n",
    "\n",
    "\n",
    "### Principais Resultados:\n",
    "\n",
    "* Com 2 componentes principais, observamos um aumento notável na acurácia em todos os conjuntos (treinamento, validação e teste) em comparação com 1 componente.\n",
    "\n",
    "* O desempenho continua a melhorar até 10 componentes principais, onde atingimos uma acurácia significativamente alta.\n",
    "\n",
    "* No entanto, ao aumentar para 50 componentes principais, as melhorias percentuais diminuíram, sugerindo que o ganho adicional de informação foi limitado e o aumento de tempo foi significativo.\n",
    "\n",
    "### Métricas de Desempenho:\n",
    "\n",
    "* Para 2 componentes principais, a acurácia na base de treinamento aumentou em aproximadamente **35.06%**, enquanto a acurácia na base de validação aumentou em cerca de **23.11%**, ambos em relação a 1 componente.\n",
    "\n",
    "* Para 10 componentes, houve um aumento de aproximadamente **73.6%** na acurácia, enquanto que para 50 componentes houve um aumento de aproximadamente **77%**, significando uma diferença de somente **3,4%** não juntificando assim a utilização do modelo com 50 componentes.\n",
    "\n",
    "### Considerações Finais:\n",
    "\n",
    "* A escolha do número ideal de componentes principais depende de um equilíbrio entre complexidade do modelo e desempenho.\n",
    "\n",
    "* ####  A melhor escolha nesse caso em específico é de 10 componentes onde o aumento de tempo justifica a acurácia do modelo."
   ]
  },
  {
   "cell_type": "code",
   "execution_count": null,
   "metadata": {},
   "outputs": [],
   "source": []
  }
 ],
 "metadata": {
  "kernelspec": {
   "display_name": "Python 3 (ipykernel)",
   "language": "python",
   "name": "python3"
  },
  "language_info": {
   "codemirror_mode": {
    "name": "ipython",
    "version": 3
   },
   "file_extension": ".py",
   "mimetype": "text/x-python",
   "name": "python",
   "nbconvert_exporter": "python",
   "pygments_lexer": "ipython3",
   "version": "3.11.4"
  },
  "toc": {
   "base_numbering": 1,
   "nav_menu": {},
   "number_sections": true,
   "sideBar": true,
   "skip_h1_title": true,
   "title_cell": "Índice",
   "title_sidebar": "Conteúdo",
   "toc_cell": false,
   "toc_position": {},
   "toc_section_display": true,
   "toc_window_display": false
  },
  "varInspector": {
   "cols": {
    "lenName": 16,
    "lenType": 16,
    "lenVar": 40
   },
   "kernels_config": {
    "python": {
     "delete_cmd_postfix": "",
     "delete_cmd_prefix": "del ",
     "library": "var_list.py",
     "varRefreshCmd": "print(var_dic_list())"
    },
    "r": {
     "delete_cmd_postfix": ") ",
     "delete_cmd_prefix": "rm(",
     "library": "var_list.r",
     "varRefreshCmd": "cat(var_dic_list()) "
    }
   },
   "types_to_exclude": [
    "module",
    "function",
    "builtin_function_or_method",
    "instance",
    "_Feature"
   ],
   "window_display": false
  }
 },
 "nbformat": 4,
 "nbformat_minor": 4
}
